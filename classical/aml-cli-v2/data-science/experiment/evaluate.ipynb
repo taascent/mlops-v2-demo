{
  "cells": [
    {
      "cell_type": "code",
      "source": [
        "import argparse\r\n",
        "from pathlib import Path\r\n",
        "import pickle\r\n",
        "\r\n",
        "import numpy as np\r\n",
        "import pandas as pd\r\n",
        "from matplotlib import pyplot as plt\r\n",
        "\r\n",
        "from sklearn.metrics import r2_score, mean_absolute_error, mean_squared_error\r\n",
        "\r\n",
        "import mlflow\r\n",
        "import mlflow.sklearn\r\n",
        "import mlflow.pyfunc\r\n",
        "from mlflow.tracking import MlflowClient\r\n"
      ],
      "outputs": [],
      "execution_count": 1,
      "metadata": {}
    },
    {
      "cell_type": "code",
      "source": [
        "TARGET_COL = \"cost\"\r\n",
        "\r\n",
        "NUMERIC_COLS = [\r\n",
        "    \"distance\",\r\n",
        "    \"dropoff_latitude\",\r\n",
        "    \"dropoff_longitude\",\r\n",
        "    \"passengers\",\r\n",
        "    \"pickup_latitude\",\r\n",
        "    \"pickup_longitude\",\r\n",
        "    \"pickup_weekday\",\r\n",
        "    \"pickup_month\",\r\n",
        "    \"pickup_monthday\",\r\n",
        "    \"pickup_hour\",\r\n",
        "    \"pickup_minute\",\r\n",
        "    \"pickup_second\",\r\n",
        "    \"dropoff_weekday\",\r\n",
        "    \"dropoff_month\",\r\n",
        "    \"dropoff_monthday\",\r\n",
        "    \"dropoff_hour\",\r\n",
        "    \"dropoff_minute\",\r\n",
        "    \"dropoff_second\",\r\n",
        "]\r\n",
        "\r\n",
        "CAT_NOM_COLS = [\r\n",
        "    \"store_forward\",\r\n",
        "    \"vendor\",\r\n",
        "]\r\n",
        "\r\n",
        "CAT_ORD_COLS = [\r\n",
        "]\r\n",
        "\r\n",
        "SENSITIVE_COLS = [\"vendor\"] # for fairlearn dashborad\r\n"
      ],
      "outputs": [],
      "execution_count": 2,
      "metadata": {
        "jupyter": {
          "source_hidden": false,
          "outputs_hidden": false
        },
        "nteract": {
          "transient": {
            "deleting": false
          }
        }
      }
    },
    {
      "cell_type": "code",
      "source": [
        "# Define Arguments for this step\r\n",
        "\r\n",
        "class MyArguments:\r\n",
        "    def __init__(self, /, **kwargs):\r\n",
        "        self.__dict__.update(kwargs)\r\n",
        "\r\n",
        "args = MyArguments(\r\n",
        "                model_name = \"taxi-model\",\r\n",
        "                model_input = \"/tmp/train\",\r\n",
        "                prepared_data = \"/tmp/prep\",\r\n",
        "                evaluation_output = \"/tmp/evaluate\",\r\n",
        "                runner = \"LocalRunner\"\r\n",
        "                )\r\n",
        "\r\n",
        "os.makedirs(args.evaluation_output, exist_ok = True)"
      ],
      "outputs": [],
      "execution_count": 3,
      "metadata": {
        "jupyter": {
          "source_hidden": false,
          "outputs_hidden": false
        },
        "nteract": {
          "transient": {
            "deleting": false
          }
        }
      }
    },
    {
      "cell_type": "code",
      "source": [
        "def main(args):\r\n",
        "    '''Read trained model and test dataset, evaluate model and save result'''\r\n",
        "\r\n",
        "    # Load the train and test data\r\n",
        "    train_data = pd.read_csv((Path(args.prepared_data) / \"train.csv\"))\r\n",
        "    test_data = pd.read_csv((Path(args.prepared_data) / \"test.csv\"))\r\n",
        "\r\n",
        "    y_train = train_data[TARGET_COL]\r\n",
        "    X_train = train_data[NUMERIC_COLS + CAT_NOM_COLS + CAT_ORD_COLS]\r\n",
        "\r\n",
        "    y_test = test_data[TARGET_COL]\r\n",
        "    X_test = test_data[NUMERIC_COLS + CAT_NOM_COLS + CAT_ORD_COLS]\r\n",
        "\r\n",
        "    # Load the model from input port\r\n",
        "    with open((Path(args.model_input) / \"model.pkl\"), \"rb\") as infile:\r\n",
        "        model = pickle.load(infile)\r\n",
        "\r\n",
        "    # ---------------- Model Evaluation ---------------- #\r\n",
        "    yhat_test, score = model_evaluation(X_test, y_test, model, args.evaluation_output)\r\n",
        "\r\n",
        "    # ----------------- Model Promotion ---------------- #\r\n",
        "    if args.runner == \"CloudRunner\":\r\n",
        "        predictions, deploy_flag = model_promotion(args.model_name, args.evaluation_output, X_test, y_test, yhat_test, score)\r\n",
        "\r\n",
        "\r\n",
        "def model_evaluation(X_test, y_test, model, evaluation_output):\r\n",
        "\r\n",
        "    # Get predictions to y_test (y_test)\r\n",
        "    yhat_test = model.predict(X_test)\r\n",
        "\r\n",
        "    # Save the output data with feature columns, predicted cost, and actual cost in csv file\r\n",
        "    output_data = X_test.copy()\r\n",
        "    output_data[\"real_label\"] = y_test\r\n",
        "    output_data[\"predicted_label\"] = yhat_test\r\n",
        "    output_data.to_csv((Path(evaluation_output) / \"predictions.csv\"))\r\n",
        "\r\n",
        "    # Evaluate Model performance with the test set\r\n",
        "    r2 = r2_score(y_test, yhat_test)\r\n",
        "    mse = mean_squared_error(y_test, yhat_test)\r\n",
        "    rmse = np.sqrt(mse)\r\n",
        "    mae = mean_absolute_error(y_test, yhat_test)\r\n",
        "\r\n",
        "    # Print score report to a text file\r\n",
        "    (Path(evaluation_output) / \"score.txt\").write_text(\r\n",
        "        f\"Scored with the following model:\\n{format(model)}\"\r\n",
        "    )\r\n",
        "    with open((Path(evaluation_output) / \"score.txt\"), \"a\") as outfile:\r\n",
        "        outfile.write(\"Mean squared error: {mse.2f} \\n\")\r\n",
        "        outfile.write(\"Root mean squared error: {rmse.2f} \\n\")\r\n",
        "        outfile.write(\"Mean absolute error: {mae.2f} \\n\")\r\n",
        "        outfile.write(\"Coefficient of determination: {r2.2f} \\n\")\r\n",
        "\r\n",
        "    mlflow.log_metric(\"test r2\", r2)\r\n",
        "    mlflow.log_metric(\"test mse\", mse)\r\n",
        "    mlflow.log_metric(\"test rmse\", rmse)\r\n",
        "    mlflow.log_metric(\"test mae\", mae)\r\n",
        "\r\n",
        "    # Visualize results\r\n",
        "    plt.scatter(y_test, yhat_test,  color='black')\r\n",
        "    plt.plot(y_test, y_test, color='blue', linewidth=3)\r\n",
        "    plt.xlabel(\"Real value\")\r\n",
        "    plt.ylabel(\"Predicted value\")\r\n",
        "    plt.title(\"Comparing Model Predictions to Real values - Test Data\")\r\n",
        "    plt.savefig(\"predictions.png\")\r\n",
        "    mlflow.log_artifact(\"predictions.png\")\r\n",
        "\r\n",
        "    return yhat_test, r2\r\n",
        "\r\n",
        "def model_promotion(model_name, evaluation_output, X_test, y_test, yhat_test, score):\r\n",
        "    \r\n",
        "    scores = {}\r\n",
        "    predictions = {}\r\n",
        "\r\n",
        "    client = MlflowClient()\r\n",
        "\r\n",
        "    for model_run in client.search_model_versions(f\"name='{model_name}'\"):\r\n",
        "        model_version = model_run.version\r\n",
        "        mdl = mlflow.pyfunc.load_model(\r\n",
        "            model_uri=f\"models:/{model_name}/{model_version}\")\r\n",
        "        predictions[f\"{model_name}:{model_version}\"] = mdl.predict(X_test)\r\n",
        "        scores[f\"{model_name}:{model_version}\"] = r2_score(\r\n",
        "            y_test, predictions[f\"{model_name}:{model_version}\"])\r\n",
        "\r\n",
        "    if scores:\r\n",
        "        if score >= max(list(scores.values())):\r\n",
        "            deploy_flag = 1\r\n",
        "        else:\r\n",
        "            deploy_flag = 0\r\n",
        "    else:\r\n",
        "        deploy_flag = 1\r\n",
        "    print(f\"Deploy flag: {deploy_flag}\")\r\n",
        "\r\n",
        "    with open((Path(evaluation_output) / \"deploy_flag\"), 'w') as outfile:\r\n",
        "        outfile.write(f\"{int(deploy_flag)}\")\r\n",
        "\r\n",
        "    # add current model score and predictions\r\n",
        "    scores[\"current model\"] = score\r\n",
        "    predictions[\"currrent model\"] = yhat_test\r\n",
        "\r\n",
        "    perf_comparison_plot = pd.DataFrame(\r\n",
        "        scores, index=[\"r2 score\"]).plot(kind='bar', figsize=(15, 10))\r\n",
        "    perf_comparison_plot.figure.savefig(\"perf_comparison.png\")\r\n",
        "    perf_comparison_plot.figure.savefig(Path(evaluation_output) / \"perf_comparison.png\")\r\n",
        "\r\n",
        "    #mlflow.log_metric(\"deploy flag\", bool(deploy_flag))\r\n",
        "    mlflow.log_artifact(\"perf_comparison.png\")\r\n",
        "\r\n",
        "    return predictions, deploy_flag\r\n"
      ],
      "outputs": [],
      "execution_count": 4,
      "metadata": {
        "jupyter": {
          "source_hidden": false,
          "outputs_hidden": false
        },
        "nteract": {
          "transient": {
            "deleting": false
          }
        }
      }
    },
    {
      "cell_type": "code",
      "source": [
        "mlflow.start_run()\r\n",
        "\r\n",
        "lines = [\r\n",
        "    f\"Model name: {args.model_name}\",\r\n",
        "    f\"Model path: {args.model_input}\",\r\n",
        "    f\"Test data path: {args.prepared_data}\",\r\n",
        "    f\"Evaluation output path: {args.evaluation_output}\",\r\n",
        "]\r\n",
        "\r\n",
        "for line in lines:\r\n",
        "    print(line)\r\n",
        "\r\n",
        "main(args)\r\n",
        "\r\n",
        "mlflow.end_run()"
      ],
      "outputs": [
        {
          "output_type": "stream",
          "name": "stdout",
          "text": "Model name: taxi-model\nModel path: /tmp/train\nTest data path: /tmp/prep\nEvaluation output path: /tmp/evaluate\n"
        }
      ],
      "execution_count": 5,
      "metadata": {
        "jupyter": {
          "source_hidden": false,
          "outputs_hidden": false
        },
        "nteract": {
          "transient": {
            "deleting": false
          }
        }
      }
    },
    {
      "cell_type": "code",
      "source": [
        "!ls /tmp/evaluate"
      ],
      "outputs": [
        {
          "output_type": "stream",
          "name": "stdout",
          "text": "deploy_flag  perf_comparison.png  predictions.csv  score.txt\r\n"
        }
      ],
      "execution_count": 6,
      "metadata": {
        "jupyter": {
          "source_hidden": false,
          "outputs_hidden": false
        },
        "nteract": {
          "transient": {
            "deleting": false
          }
        }
      }
    }
  ],
  "metadata": {
    "kernelspec": {
      "name": "python38-azureml",
      "language": "python",
      "display_name": "Python 3.8 - AzureML"
    },
    "language_info": {
      "name": "python",
      "version": "3.8.1",
      "mimetype": "text/x-python",
      "codemirror_mode": {
        "name": "ipython",
        "version": 3
      },
      "pygments_lexer": "ipython3",
      "nbconvert_exporter": "python",
      "file_extension": ".py"
    },
    "nteract": {
      "version": "nteract-front-end@1.0.0"
    },
    "kernel_info": {
      "name": "python38-azureml"
    }
  },
  "nbformat": 4,
  "nbformat_minor": 0
}