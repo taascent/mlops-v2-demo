{
  "cells": [
    {
      "cell_type": "code",
      "source": [
        "import argparse\r\n",
        "\r\n",
        "from pathlib import Path\r\n",
        "import os\r\n",
        "import numpy as np\r\n",
        "import pandas as pd\r\n",
        "\r\n",
        "import mlflow"
      ],
      "outputs": [],
      "execution_count": 1,
      "metadata": {
        "jupyter": {
          "source_hidden": false,
          "outputs_hidden": false
        },
        "nteract": {
          "transient": {
            "deleting": false
          }
        }
      }
    },
    {
      "cell_type": "code",
      "source": [
        "# Define Arguments for this step\r\n",
        "\r\n",
        "class MyArguments:\r\n",
        "    def __init__(self, /, **kwargs):\r\n",
        "        self.__dict__.update(kwargs)\r\n",
        "\r\n",
        "args = MyArguments(\r\n",
        "                raw_data = \"../../data/\", \r\n",
        "                prepared_data = \"/tmp/prep\"\r\n",
        "                )\r\n",
        "\r\n",
        "os.makedirs(args.prepared_data, exist_ok = True)"
      ],
      "outputs": [],
      "execution_count": 2,
      "metadata": {
        "jupyter": {
          "source_hidden": false,
          "outputs_hidden": false
        },
        "nteract": {
          "transient": {
            "deleting": false
          }
        }
      }
    },
    {
      "cell_type": "code",
      "source": [
        "def main(args):\r\n",
        "    '''Read, split, and save datasets'''\r\n",
        "\r\n",
        "    # ------------ Reading Data ------------ #\r\n",
        "    # -------------------------------------- #\r\n",
        "\r\n",
        "    print(\"mounted_path files: \")\r\n",
        "    arr = os.listdir(args.raw_data)\r\n",
        "    print(arr)\r\n",
        "\r\n",
        "    data = pd.read_csv((Path(args.raw_data) / 'taxi-data.csv'))\r\n",
        "\r\n",
        "    # ------------- Split Data ------------- #\r\n",
        "    # -------------------------------------- #\r\n",
        "\r\n",
        "    # Split data into train, val and test datasets\r\n",
        "\r\n",
        "    random_data = np.random.rand(len(data))\r\n",
        "\r\n",
        "    msk_train = random_data < 0.7\r\n",
        "    msk_val = (random_data >= 0.7) & (random_data < 0.85)\r\n",
        "    msk_test = random_data >= 0.85\r\n",
        "\r\n",
        "    train = data[msk_train]\r\n",
        "    val = data[msk_val]\r\n",
        "    test = data[msk_test]\r\n",
        "\r\n",
        "    mlflow.log_metric('train size', train.shape[0])\r\n",
        "    mlflow.log_metric('val size', val.shape[0])\r\n",
        "    mlflow.log_metric('test size', test.shape[0])\r\n",
        "\r\n",
        "    train.to_csv((Path(args.prepared_data) / \"train.csv\"))\r\n",
        "    val.to_csv((Path(args.prepared_data) / \"val.csv\"))\r\n",
        "    test.to_csv((Path(args.prepared_data) / \"test.csv\"))\r\n"
      ],
      "outputs": [],
      "execution_count": 3,
      "metadata": {}
    },
    {
      "cell_type": "code",
      "source": [
        "mlflow.start_run()\r\n",
        "\r\n",
        "lines = [\r\n",
        "    f\"Raw data path: {args.raw_data}\",\r\n",
        "    f\"Data output path: {args.prepared_data}\",\r\n",
        "]\r\n",
        "\r\n",
        "for line in lines:\r\n",
        "    print(line)\r\n",
        "\r\n",
        "main(args)\r\n",
        "\r\n",
        "mlflow.end_run()"
      ],
      "outputs": [
        {
          "output_type": "stream",
          "name": "stdout",
          "text": "Raw data path: ../../data/\nData output path: /tmp/prep\nmounted_path files: \n['.amlignore', '.amlignore.amltmp', 'taxi-batch.csv', 'taxi-data.csv', 'taxi-request.json']\n"
        }
      ],
      "execution_count": 4,
      "metadata": {
        "jupyter": {
          "source_hidden": false,
          "outputs_hidden": false
        },
        "nteract": {
          "transient": {
            "deleting": false
          }
        }
      }
    },
    {
      "cell_type": "code",
      "source": [
        "!ls /tmp/prep"
      ],
      "outputs": [
        {
          "output_type": "stream",
          "name": "stdout",
          "text": "test.csv  train.csv  val.csv\r\n"
        }
      ],
      "execution_count": 6,
      "metadata": {
        "jupyter": {
          "source_hidden": false,
          "outputs_hidden": false
        },
        "nteract": {
          "transient": {
            "deleting": false
          }
        }
      }
    }
  ],
  "metadata": {
    "kernelspec": {
      "name": "local-env",
      "language": "python",
      "display_name": "Local Env"
    },
    "language_info": {
      "name": "python",
      "version": "3.8.1",
      "mimetype": "text/x-python",
      "codemirror_mode": {
        "name": "ipython",
        "version": 3
      },
      "pygments_lexer": "ipython3",
      "nbconvert_exporter": "python",
      "file_extension": ".py"
    },
    "nteract": {
      "version": "nteract-front-end@1.0.0"
    },
    "kernel_info": {
      "name": "local-env"
    }
  },
  "nbformat": 4,
  "nbformat_minor": 0
}