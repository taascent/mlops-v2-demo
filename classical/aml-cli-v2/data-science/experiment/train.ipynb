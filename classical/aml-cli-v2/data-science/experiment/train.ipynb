{
  "cells": [
    {
      "cell_type": "code",
      "source": [
        "import argparse\r\n",
        "\r\n",
        "from pathlib import Path\r\n",
        "import os\r\n",
        "import pickle\r\n",
        "\r\n",
        "import numpy as np\r\n",
        "import pandas as pd\r\n",
        "from matplotlib import pyplot as plt\r\n",
        "\r\n",
        "from sklearn.ensemble import RandomForestRegressor\r\n",
        "from sklearn.metrics import r2_score, mean_absolute_error, mean_squared_error\r\n",
        "\r\n",
        "import mlflow\r\n",
        "import mlflow.sklearn"
      ],
      "outputs": [],
      "execution_count": 1,
      "metadata": {}
    },
    {
      "cell_type": "code",
      "source": [
        "TARGET_COL = \"cost\"\r\n",
        "\r\n",
        "NUMERIC_COLS = [\r\n",
        "    \"distance\",\r\n",
        "    \"dropoff_latitude\",\r\n",
        "    \"dropoff_longitude\",\r\n",
        "    \"passengers\",\r\n",
        "    \"pickup_latitude\",\r\n",
        "    \"pickup_longitude\",\r\n",
        "    \"pickup_weekday\",\r\n",
        "    \"pickup_month\",\r\n",
        "    \"pickup_monthday\",\r\n",
        "    \"pickup_hour\",\r\n",
        "    \"pickup_minute\",\r\n",
        "    \"pickup_second\",\r\n",
        "    \"dropoff_weekday\",\r\n",
        "    \"dropoff_month\",\r\n",
        "    \"dropoff_monthday\",\r\n",
        "    \"dropoff_hour\",\r\n",
        "    \"dropoff_minute\",\r\n",
        "    \"dropoff_second\",\r\n",
        "]\r\n",
        "\r\n",
        "CAT_NOM_COLS = [\r\n",
        "    \"store_forward\",\r\n",
        "    \"vendor\",\r\n",
        "]\r\n",
        "\r\n",
        "CAT_ORD_COLS = [\r\n",
        "]\r\n"
      ],
      "outputs": [],
      "execution_count": 2,
      "metadata": {
        "jupyter": {
          "source_hidden": false,
          "outputs_hidden": false
        },
        "nteract": {
          "transient": {
            "deleting": false
          }
        }
      }
    },
    {
      "cell_type": "code",
      "source": [
        "# Define Arguments for this step\r\n",
        "\r\n",
        "class MyArguments:\r\n",
        "    def __init__(self, /, **kwargs):\r\n",
        "        self.__dict__.update(kwargs)\r\n",
        "\r\n",
        "args = MyArguments(\r\n",
        "                prepared_data = \"/tmp/prep\",\r\n",
        "                model_output = \"/tmp/train\",\r\n",
        "                regressor__n_estimators = 500,\r\n",
        "                regressor__bootstrap = 1,\r\n",
        "                regressor__max_depth = 10,\r\n",
        "                regressor__max_features = \"auto\", \r\n",
        "                regressor__min_samples_leaf = 4,\r\n",
        "                regressor__min_samples_split = 5\r\n",
        "                )\r\n",
        "\r\n",
        "os.makedirs(args.model_output, exist_ok = True)"
      ],
      "outputs": [],
      "execution_count": 3,
      "metadata": {
        "jupyter": {
          "source_hidden": false,
          "outputs_hidden": false
        },
        "nteract": {
          "transient": {
            "deleting": false
          }
        }
      }
    },
    {
      "cell_type": "code",
      "source": [
        "def main(args):\r\n",
        "    '''Read train dataset, train model, save trained model'''\r\n",
        "\r\n",
        "    # Read train data\r\n",
        "    train_data = pd.read_csv((Path(args.prepared_data) / \"train.csv\"))\r\n",
        "\r\n",
        "    # Split the data into input(X) and output(y)\r\n",
        "    y_train = train_data[TARGET_COL]\r\n",
        "    X_train = train_data[NUMERIC_COLS + CAT_NOM_COLS + CAT_ORD_COLS]\r\n",
        "\r\n",
        "    # Train a Random Forest Regression Model with the training set\r\n",
        "    model = RandomForestRegressor(n_estimators = args.regressor__n_estimators,\r\n",
        "                                  bootstrap = args.regressor__bootstrap,\r\n",
        "                                  max_depth = args.regressor__max_depth,\r\n",
        "                                  max_features = args.regressor__max_features,\r\n",
        "                                  min_samples_leaf = args.regressor__min_samples_leaf,\r\n",
        "                                  min_samples_split = args.regressor__min_samples_split,\r\n",
        "                                  random_state=0)\r\n",
        "\r\n",
        "    # log model hyperparameters\r\n",
        "    mlflow.log_param(\"model\", \"RandomForestRegressor\")\r\n",
        "    mlflow.log_param(\"n_estimators\", args.regressor__n_estimators)\r\n",
        "    mlflow.log_param(\"bootstrap\", args.regressor__bootstrap)\r\n",
        "    mlflow.log_param(\"max_depth\", args.regressor__max_depth)\r\n",
        "    mlflow.log_param(\"max_features\", args.regressor__max_features)\r\n",
        "    mlflow.log_param(\"min_samples_leaf\", args.regressor__min_samples_leaf)\r\n",
        "    mlflow.log_param(\"min_samples_split\", args.regressor__min_samples_split)\r\n",
        "\r\n",
        "    # Train model with the train set\r\n",
        "    model.fit(X_train, y_train)\r\n",
        "\r\n",
        "    # Predict using the Regression Model\r\n",
        "    yhat_train = model.predict(X_train)\r\n",
        "\r\n",
        "    # Evaluate Regression performance with the train set\r\n",
        "    r2 = r2_score(y_train, yhat_train)\r\n",
        "    mse = mean_squared_error(y_train, yhat_train)\r\n",
        "    rmse = np.sqrt(mse)\r\n",
        "    mae = mean_absolute_error(y_train, yhat_train)\r\n",
        "    \r\n",
        "    # log model performance metrics\r\n",
        "    mlflow.log_metric(\"train r2\", r2)\r\n",
        "    mlflow.log_metric(\"train mse\", mse)\r\n",
        "    mlflow.log_metric(\"train rmse\", rmse)\r\n",
        "    mlflow.log_metric(\"train mae\", mae)\r\n",
        "\r\n",
        "    # Visualize results\r\n",
        "    plt.scatter(y_train, yhat_train,  color='black')\r\n",
        "    plt.plot(y_train, y_train, color='blue', linewidth=3)\r\n",
        "    plt.xlabel(\"Real value\")\r\n",
        "    plt.ylabel(\"Predicted value\")\r\n",
        "    plt.savefig(\"regression_results.png\")\r\n",
        "    mlflow.log_artifact(\"regression_results.png\")\r\n",
        "\r\n",
        "    # Save the model\r\n",
        "    with open((Path(args.model_output) / \"model.pkl\"), \"wb\") as outfile:\r\n",
        "        pickle.dump(model, outfile)"
      ],
      "outputs": [],
      "execution_count": 4,
      "metadata": {
        "jupyter": {
          "source_hidden": false,
          "outputs_hidden": false
        },
        "nteract": {
          "transient": {
            "deleting": false
          }
        }
      }
    },
    {
      "cell_type": "code",
      "source": [
        "mlflow.start_run()\r\n",
        "\r\n",
        "# ---------- Parse Arguments ----------- #\r\n",
        "# -------------------------------------- #\r\n",
        "\r\n",
        "lines = [\r\n",
        "    f\"Data input path: {args.prepared_data}\",\r\n",
        "    f\"Model output path: {args.model_output}\",\r\n",
        "    f\"n_estimators: {args.regressor__n_estimators}\",\r\n",
        "    f\"bootstrap: {args.regressor__bootstrap}\",\r\n",
        "    f\"max_depth: {args.regressor__max_depth}\",\r\n",
        "    f\"max_features: {args.regressor__max_features}\",\r\n",
        "    f\"min_samples_leaf: {args.regressor__min_samples_leaf}\",\r\n",
        "    f\"min_samples_split: {args.regressor__min_samples_split}\"\r\n",
        "]\r\n",
        "\r\n",
        "for line in lines:\r\n",
        "    print(line)\r\n",
        "\r\n",
        "main(args)\r\n",
        "\r\n",
        "mlflow.end_run()"
      ],
      "outputs": [
        {
          "output_type": "stream",
          "name": "stdout",
          "text": "Data input path: /tmp/prep\nModel output path: /tmp/train\nn_estimators: 500\nbootstrap: 1\nmax_depth: 10\nmax_features: auto\nmin_samples_leaf: 4\nmin_samples_split: 5\n"
        }
      ],
      "execution_count": 5,
      "metadata": {
        "jupyter": {
          "source_hidden": false,
          "outputs_hidden": false
        },
        "nteract": {
          "transient": {
            "deleting": false
          }
        }
      }
    }
  ],
  "metadata": {
    "kernelspec": {
      "name": "python38-azureml",
      "language": "python",
      "display_name": "Python 3.8 - AzureML"
    },
    "language_info": {
      "name": "python",
      "version": "3.8.1",
      "mimetype": "text/x-python",
      "codemirror_mode": {
        "name": "ipython",
        "version": 3
      },
      "pygments_lexer": "ipython3",
      "nbconvert_exporter": "python",
      "file_extension": ".py"
    },
    "nteract": {
      "version": "nteract-front-end@1.0.0"
    },
    "kernel_info": {
      "name": "python38-azureml"
    }
  },
  "nbformat": 4,
  "nbformat_minor": 0
}