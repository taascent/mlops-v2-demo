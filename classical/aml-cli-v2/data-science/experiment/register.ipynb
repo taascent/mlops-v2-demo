{
  "cells": [
    {
      "cell_type": "code",
      "source": [
        "import argparse\r\n",
        "from pathlib import Path\r\n",
        "import pickle\r\n",
        "import mlflow"
      ],
      "outputs": [],
      "execution_count": 1,
      "metadata": {}
    },
    {
      "cell_type": "code",
      "source": [
        "# Define Arguments for this step\r\n",
        "\r\n",
        "class MyArguments:\r\n",
        "    def __init__(self, /, **kwargs):\r\n",
        "        self.__dict__.update(kwargs)\r\n",
        "\r\n",
        "args = MyArguments(\r\n",
        "                model_name = \"taxi-model\",\r\n",
        "                model_path = \"/tmp/train\",\r\n",
        "                evaluation_output = \"/tmp/evaluate\"\r\n",
        "                )"
      ],
      "outputs": [],
      "execution_count": 2,
      "metadata": {
        "jupyter": {
          "source_hidden": false,
          "outputs_hidden": false
        },
        "nteract": {
          "transient": {
            "deleting": false
          }
        }
      }
    },
    {
      "cell_type": "code",
      "source": [
        "def main(args):\r\n",
        "    '''Loads model, registers it if deply flag is True'''\r\n",
        "\r\n",
        "    with open((Path(args.evaluation_output) / \"deploy_flag\"), 'rb') as infile:\r\n",
        "        deploy_flag = int(infile.read())\r\n",
        "        \r\n",
        "    mlflow.log_metric(\"deploy flag\", int(deploy_flag))\r\n",
        "    if deploy_flag==1:\r\n",
        "\r\n",
        "        print(\"Registering \", args.model_name)\r\n",
        "\r\n",
        "        # load model\r\n",
        "        with open((Path(args.model_path) / \"model.pkl\"), \"rb\") as infile:\r\n",
        "            model = pickle.load(infile)\r\n",
        "\r\n",
        "        # log model using mlflow\r\n",
        "        mlflow.sklearn.log_model(model, args.model_name)\r\n",
        "\r\n",
        "        # register logged model using mlflow\r\n",
        "        run_id = mlflow.active_run().info.run_id\r\n",
        "        model_uri = f'runs:/{run_id}/{args.model_name}'\r\n",
        "        mlflow.register_model(model_uri, args.model_name)\r\n",
        "\r\n",
        "    else:\r\n",
        "        print(\"Model will not be registered!\")"
      ],
      "outputs": [],
      "execution_count": 3,
      "metadata": {
        "jupyter": {
          "source_hidden": false,
          "outputs_hidden": false
        },
        "nteract": {
          "transient": {
            "deleting": false
          }
        }
      }
    },
    {
      "cell_type": "code",
      "source": [
        "mlflow.start_run()\r\n",
        "\r\n",
        "lines = [\r\n",
        "    f\"Model name: {args.model_name}\",\r\n",
        "    f\"Model path: {args.model_path}\",\r\n",
        "    f\"Evaluation output path: {args.evaluation_output}\",\r\n",
        "]\r\n",
        "\r\n",
        "for line in lines:\r\n",
        "    print(line)\r\n",
        "\r\n",
        "main(args)\r\n",
        "\r\n",
        "mlflow.end_run()"
      ],
      "outputs": [
        {
          "output_type": "stream",
          "name": "stdout",
          "text": "Model name: taxi-model\nModel path: /tmp/train\nEvaluation output path: /tmp/evaluate\nRegistering  taxi-model\n"
        },
        {
          "output_type": "stream",
          "name": "stderr",
          "text": "Registered model 'taxi-model' already exists. Creating a new version of this model...\n2022/06/30 12:15:44 INFO mlflow.tracking._model_registry.client: Waiting up to 300 seconds for model version to finish creation.                     Model name: taxi-model, version 25\nCreated version '25' of model 'taxi-model'.\n"
        }
      ],
      "execution_count": 4,
      "metadata": {
        "jupyter": {
          "source_hidden": false,
          "outputs_hidden": false
        },
        "nteract": {
          "transient": {
            "deleting": false
          }
        }
      }
    }
  ],
  "metadata": {
    "kernelspec": {
      "name": "local-env",
      "language": "python",
      "display_name": "Local Env"
    },
    "language_info": {
      "name": "python",
      "version": "3.8.1",
      "mimetype": "text/x-python",
      "codemirror_mode": {
        "name": "ipython",
        "version": 3
      },
      "pygments_lexer": "ipython3",
      "nbconvert_exporter": "python",
      "file_extension": ".py"
    },
    "kernel_info": {
      "name": "local-env"
    },
    "nteract": {
      "version": "nteract-front-end@1.0.0"
    }
  },
  "nbformat": 4,
  "nbformat_minor": 0
}